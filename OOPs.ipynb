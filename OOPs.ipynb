{
  "nbformat": 4,
  "nbformat_minor": 0,
  "metadata": {
    "colab": {
      "name": "OOPs.ipynb",
      "provenance": [],
      "collapsed_sections": []
    },
    "kernelspec": {
      "name": "python3",
      "display_name": "Python 3"
    },
    "language_info": {
      "name": "python"
    }
  },
  "cells": [
    {
      "cell_type": "markdown",
      "metadata": {
        "id": "ZkpBY2rm6B0V"
      },
      "source": [
        "## CLASS AND OBJECTS"
      ]
    },
    {
      "cell_type": "code",
      "metadata": {
        "id": "J7ojVQeNbBf9"
      },
      "source": [
        "class computer: \n",
        "  def __init__(self,CPU,RAM):\n",
        "    self.CPU = CPU\n",
        "    self.RAM = RAM\n",
        "\n",
        "  def config(self):\n",
        "    print(self.CPU, self.RAM)\n",
        "\n",
        "comp1 = computer(\"i5\",16)    #object of computer class\n",
        "comp2 = computer(\"i7\",8)"
      ],
      "execution_count": null,
      "outputs": []
    },
    {
      "cell_type": "code",
      "metadata": {
        "colab": {
          "base_uri": "https://localhost:8080/"
        },
        "id": "xVKLNMhzTKGj",
        "outputId": "1d6cf5c4-ef79-4e5c-eb29-f70ff08f99f9"
      },
      "source": [
        "computer.config(comp2)   #comp1 is argument of config"
      ],
      "execution_count": null,
      "outputs": [
        {
          "output_type": "stream",
          "text": [
            "i7 8\n"
          ],
          "name": "stdout"
        }
      ]
    },
    {
      "cell_type": "code",
      "metadata": {
        "colab": {
          "base_uri": "https://localhost:8080/"
        },
        "id": "Ag1cOkN5TpzD",
        "outputId": "d5c3a51d-51d3-4464-ea0f-cca8b3132503"
      },
      "source": [
        "comp1.config()           "
      ],
      "execution_count": null,
      "outputs": [
        {
          "output_type": "stream",
          "text": [
            "i5 16\n"
          ],
          "name": "stdout"
        }
      ]
    },
    {
      "cell_type": "code",
      "metadata": {
        "id": "ENPZ5Tc-UKGG"
      },
      "source": [
        "class Computer:\n",
        "  def __init__(self):\n",
        "    self.name = \"romit\"\n",
        "    self.age = 27\n",
        "\n",
        "  def update(self): \n",
        "    self.age = 24 \n",
        "\n",
        "  def compare(self, c):\n",
        "    if self.age == c.age:\n",
        "      return True\n",
        "    else:\n",
        "      return False   \n",
        "\n",
        "c1 = Computer()\n",
        "c2 = Computer()   "
      ],
      "execution_count": null,
      "outputs": []
    },
    {
      "cell_type": "code",
      "metadata": {
        "colab": {
          "base_uri": "https://localhost:8080/",
          "height": 35
        },
        "id": "kXK8U6x4YB80",
        "outputId": "9829071f-3a67-4d70-ad1a-01af11c4e6f0"
      },
      "source": [
        "c1.name"
      ],
      "execution_count": null,
      "outputs": [
        {
          "output_type": "execute_result",
          "data": {
            "application/vnd.google.colaboratory.intrinsic+json": {
              "type": "string"
            },
            "text/plain": [
              "'romit'"
            ]
          },
          "metadata": {
            "tags": []
          },
          "execution_count": 92
        }
      ]
    },
    {
      "cell_type": "code",
      "metadata": {
        "colab": {
          "base_uri": "https://localhost:8080/"
        },
        "id": "Zq2eLvkIYcTN",
        "outputId": "590e7222-842f-4439-d79d-aa1fffec1cde"
      },
      "source": [
        "c2.age"
      ],
      "execution_count": null,
      "outputs": [
        {
          "output_type": "execute_result",
          "data": {
            "text/plain": [
              "27"
            ]
          },
          "metadata": {
            "tags": []
          },
          "execution_count": 93
        }
      ]
    },
    {
      "cell_type": "code",
      "metadata": {
        "colab": {
          "base_uri": "https://localhost:8080/"
        },
        "id": "kG91ug6oYQy3",
        "outputId": "51b84e84-c3dc-4b4e-ea66-d75a0031bed3"
      },
      "source": [
        "c1.update()\n",
        "c1.age"
      ],
      "execution_count": null,
      "outputs": [
        {
          "output_type": "execute_result",
          "data": {
            "text/plain": [
              "24"
            ]
          },
          "metadata": {
            "tags": []
          },
          "execution_count": 94
        }
      ]
    },
    {
      "cell_type": "code",
      "metadata": {
        "colab": {
          "base_uri": "https://localhost:8080/"
        },
        "id": "gG3lWy1xYi1Q",
        "outputId": "83279d90-c317-43bb-e97e-e68bf6a19d41"
      },
      "source": [
        "c1.compare(c2)"
      ],
      "execution_count": null,
      "outputs": [
        {
          "output_type": "execute_result",
          "data": {
            "text/plain": [
              "False"
            ]
          },
          "metadata": {
            "tags": []
          },
          "execution_count": 95
        }
      ]
    },
    {
      "cell_type": "markdown",
      "metadata": {
        "id": "Ny8sK9RHZrMD"
      },
      "source": [
        "## VARIABLE TYPES\n",
        "\n",
        "INSTANCE VARIABLE\n",
        "\n",
        "CLASS(STATIC) VARIABLE \n"
      ]
    },
    {
      "cell_type": "code",
      "metadata": {
        "id": "w409pNxXZ-Dy"
      },
      "source": [
        "class car:\n",
        "  wheels = 4\n",
        "  def __init__(self):\n",
        "    self.mil = 10       #instance variable\n",
        "    self.com = \"bmw\"    #instance variable \n",
        "\n",
        "c1 = car()\n",
        "c2 = car()    "
      ],
      "execution_count": null,
      "outputs": []
    },
    {
      "cell_type": "code",
      "metadata": {
        "colab": {
          "base_uri": "https://localhost:8080/"
        },
        "id": "B7JwaLaLahB6",
        "outputId": "0e1cab21-2285-4e29-8f5f-a00046eb041f"
      },
      "source": [
        "print(c1.mil, c1.com, c1.wheels)"
      ],
      "execution_count": null,
      "outputs": [
        {
          "output_type": "stream",
          "text": [
            "10 bmw 4\n"
          ],
          "name": "stdout"
        }
      ]
    },
    {
      "cell_type": "code",
      "metadata": {
        "colab": {
          "base_uri": "https://localhost:8080/"
        },
        "id": "rIDkdNLwbAw6",
        "outputId": "1f8ba9a8-ea26-440f-c521-c90da4d450d1"
      },
      "source": [
        "print(c2.mil, c2.com, c2.wheels)"
      ],
      "execution_count": null,
      "outputs": [
        {
          "output_type": "stream",
          "text": [
            "10 bmw 4\n"
          ],
          "name": "stdout"
        }
      ]
    },
    {
      "cell_type": "code",
      "metadata": {
        "id": "h0fRFjHjbE2u"
      },
      "source": [
        "c1.mil = 8   #updating instance variables"
      ],
      "execution_count": null,
      "outputs": []
    },
    {
      "cell_type": "code",
      "metadata": {
        "colab": {
          "base_uri": "https://localhost:8080/"
        },
        "id": "uVPUF9EBbJxN",
        "outputId": "993daef2-fd04-48df-87c9-0dc74d910c61"
      },
      "source": [
        "print(c1.mil, c1.com, c1.wheels)"
      ],
      "execution_count": null,
      "outputs": [
        {
          "output_type": "stream",
          "text": [
            "8 bmw 4\n"
          ],
          "name": "stdout"
        }
      ]
    },
    {
      "cell_type": "code",
      "metadata": {
        "id": "K9J--uTYbPa1"
      },
      "source": [
        "car.wheels = 5    #updating class variables"
      ],
      "execution_count": null,
      "outputs": []
    },
    {
      "cell_type": "code",
      "metadata": {
        "colab": {
          "base_uri": "https://localhost:8080/"
        },
        "id": "_4B6uJJ1bWUj",
        "outputId": "e1e0007c-8b94-4c2b-b99e-70a58fc603bf"
      },
      "source": [
        "print(c1.mil, c1.com, c1.wheels)"
      ],
      "execution_count": null,
      "outputs": [
        {
          "output_type": "stream",
          "text": [
            "8 bmw 5\n"
          ],
          "name": "stdout"
        }
      ]
    },
    {
      "cell_type": "markdown",
      "metadata": {
        "id": "8wL3gUtJbeZk"
      },
      "source": [
        "## METHODS TYPES\n",
        "\n",
        "INSTANCE\n",
        "\n",
        "CLASS\n",
        "\n",
        "STATIC"
      ]
    },
    {
      "cell_type": "code",
      "metadata": {
        "id": "xgVic5EabtgU"
      },
      "source": [
        "class student:\n",
        "  school = \"univ\"             #class variable\n",
        "  def __init__(self,m,n,p):   #instance variable\n",
        "    self.m = m\n",
        "    self.n = n\n",
        "    self.p = p\n",
        "\n",
        "  def avg(self):             #instance method\n",
        "    return (self.m +self.n + self.p)/3\n",
        "\n",
        "  def get_m(self):           #getters and Accesors\n",
        "    return self.m\n",
        "\n",
        "  def set_m(self,values):    #setters and mutators\n",
        "     self.m = values \n",
        "\n",
        "  @classmethod                  #decorators\n",
        "  def get_school(cls): \n",
        "    return cls.school           # class method\n",
        "\n",
        "  @staticmethod                  #decorators\n",
        "  def info():                     #static methods (no relation with class and object)\n",
        "    print(\"this is student class\")\n",
        "s1 = student(25,8,7)\n",
        "s2 = student(8,4,85)    "
      ],
      "execution_count": null,
      "outputs": []
    },
    {
      "cell_type": "code",
      "metadata": {
        "colab": {
          "base_uri": "https://localhost:8080/"
        },
        "id": "dVpk_cFRccMn",
        "outputId": "03f0a377-6fff-48e9-b698-70f91c9ae1f0"
      },
      "source": [
        "print(s1.avg())"
      ],
      "execution_count": null,
      "outputs": [
        {
          "output_type": "stream",
          "text": [
            "13.333333333333334\n"
          ],
          "name": "stdout"
        }
      ]
    },
    {
      "cell_type": "code",
      "metadata": {
        "colab": {
          "base_uri": "https://localhost:8080/",
          "height": 35
        },
        "id": "HSyo_seEdLzr",
        "outputId": "98d5a8a9-7ea4-4ac1-8d29-f38faba1aca5"
      },
      "source": [
        "s1.get_school()"
      ],
      "execution_count": null,
      "outputs": [
        {
          "output_type": "execute_result",
          "data": {
            "application/vnd.google.colaboratory.intrinsic+json": {
              "type": "string"
            },
            "text/plain": [
              "'univ'"
            ]
          },
          "metadata": {
            "tags": []
          },
          "execution_count": 105
        }
      ]
    },
    {
      "cell_type": "code",
      "metadata": {
        "colab": {
          "base_uri": "https://localhost:8080/",
          "height": 35
        },
        "id": "t2vySHPGefra",
        "outputId": "d071eddb-79c7-495f-a56c-c60005dc68cf"
      },
      "source": [
        "student.get_school()"
      ],
      "execution_count": null,
      "outputs": [
        {
          "output_type": "execute_result",
          "data": {
            "application/vnd.google.colaboratory.intrinsic+json": {
              "type": "string"
            },
            "text/plain": [
              "'univ'"
            ]
          },
          "metadata": {
            "tags": []
          },
          "execution_count": 106
        }
      ]
    },
    {
      "cell_type": "code",
      "metadata": {
        "colab": {
          "base_uri": "https://localhost:8080/"
        },
        "id": "XxQArlXVfqrN",
        "outputId": "1a1222ef-b37b-438d-dc1a-41dd9cec4aa0"
      },
      "source": [
        "student.info()"
      ],
      "execution_count": null,
      "outputs": [
        {
          "output_type": "stream",
          "text": [
            "this is student class\n"
          ],
          "name": "stdout"
        }
      ]
    },
    {
      "cell_type": "markdown",
      "metadata": {
        "id": "WW8s97kFf1bp"
      },
      "source": [
        "## INNER CLASS"
      ]
    },
    {
      "cell_type": "code",
      "metadata": {
        "id": "d_yjgyyMf3QE"
      },
      "source": [
        "class Student:\n",
        "\n",
        "  def __init__(self,name,rollno):\n",
        "    self.name = name\n",
        "    self.rollno = rollno\n",
        "    self.lap = self.laptop()\n",
        "  \n",
        "  def show(self):\n",
        "    print(self.name,self.rollno)\n",
        "\n",
        "  class laptop:\n",
        "\n",
        "    def __init__(self):\n",
        "      self.brand = \"HP\"\n",
        "      self.cpu = \"i7\"\n",
        "      self.RAM = 8  \n",
        "\n",
        "s1 = Student(\"romit\",45)  \n",
        "s2 = Student(\"pankaj\",35)  "
      ],
      "execution_count": null,
      "outputs": []
    },
    {
      "cell_type": "code",
      "metadata": {
        "colab": {
          "base_uri": "https://localhost:8080/"
        },
        "id": "9aDDdAdbgap0",
        "outputId": "4e81ef98-a8ad-41c4-fa60-0b2b082b2b26"
      },
      "source": [
        "s1.show()"
      ],
      "execution_count": null,
      "outputs": [
        {
          "output_type": "stream",
          "text": [
            "romit 45\n"
          ],
          "name": "stdout"
        }
      ]
    },
    {
      "cell_type": "code",
      "metadata": {
        "colab": {
          "base_uri": "https://localhost:8080/",
          "height": 35
        },
        "id": "i1ti2fKVhdRH",
        "outputId": "af5bea0a-1e2f-4ba4-df98-7f2b409b0e1d"
      },
      "source": [
        "s1.lap.brand"
      ],
      "execution_count": null,
      "outputs": [
        {
          "output_type": "execute_result",
          "data": {
            "application/vnd.google.colaboratory.intrinsic+json": {
              "type": "string"
            },
            "text/plain": [
              "'HP'"
            ]
          },
          "metadata": {
            "tags": []
          },
          "execution_count": 110
        }
      ]
    },
    {
      "cell_type": "markdown",
      "metadata": {
        "id": "RUOO22Hl215Y"
      },
      "source": [
        "## INHERITENCE"
      ]
    },
    {
      "cell_type": "code",
      "metadata": {
        "id": "KY7CjrOB0vsA"
      },
      "source": [
        "class A:                     #super class or parent class\n",
        "  def feature1(self):\n",
        "    print(\"working\")\n",
        "\n",
        "  def feature2(self):\n",
        "    print(\"working\")  "
      ],
      "execution_count": null,
      "outputs": []
    },
    {
      "cell_type": "code",
      "metadata": {
        "id": "-EQOVOyL3HwJ"
      },
      "source": [
        "a1 = A()"
      ],
      "execution_count": null,
      "outputs": []
    },
    {
      "cell_type": "code",
      "metadata": {
        "colab": {
          "base_uri": "https://localhost:8080/"
        },
        "id": "rzH8ooM_3McW",
        "outputId": "d4a1b6f3-fd59-4583-e3d3-196eb7d7575a"
      },
      "source": [
        "a1.feature1()"
      ],
      "execution_count": null,
      "outputs": [
        {
          "output_type": "stream",
          "text": [
            "working\n"
          ],
          "name": "stdout"
        }
      ]
    },
    {
      "cell_type": "code",
      "metadata": {
        "id": "rGTJ4bRt3Zfa"
      },
      "source": [
        "#B inherit methods of A\n",
        "class B(A):                   #sub class or child class\n",
        "  def feature3(self):\n",
        "    print(\"working\")\n",
        "\n",
        "  def feature4(self):\n",
        "    print(\"working\")  "
      ],
      "execution_count": null,
      "outputs": []
    },
    {
      "cell_type": "code",
      "metadata": {
        "id": "QtYHx8tT3k9E"
      },
      "source": [
        "b1 = B()"
      ],
      "execution_count": null,
      "outputs": []
    },
    {
      "cell_type": "code",
      "metadata": {
        "id": "NKgqptwI4F7r"
      },
      "source": [
        "class C(B):                   #mutli level inheritence\n",
        "  def feature5(self):\n",
        "    print(\"working\")"
      ],
      "execution_count": null,
      "outputs": []
    },
    {
      "cell_type": "code",
      "metadata": {
        "id": "sJ_njudf3nv3"
      },
      "source": [
        "c1 = C()"
      ],
      "execution_count": null,
      "outputs": []
    },
    {
      "cell_type": "code",
      "metadata": {
        "id": "HiayBSIF4ToY"
      },
      "source": [
        "#for multiple inheritance\n",
        "class D:                   \n",
        "  def feature6(self):\n",
        "    print(\"working\")\n",
        "class E:                  \n",
        "  def feature7(self):\n",
        "    print(\"working\")\n",
        "\n",
        "class F(D,E):\n",
        "  def feature8(self):\n",
        "    print(\"working\")"
      ],
      "execution_count": null,
      "outputs": []
    },
    {
      "cell_type": "code",
      "metadata": {
        "id": "h5aISBVc4uZK"
      },
      "source": [
        "f1 = F()"
      ],
      "execution_count": null,
      "outputs": []
    },
    {
      "cell_type": "markdown",
      "metadata": {
        "id": "UaD0IyEf53sB"
      },
      "source": [
        "## CONSTUCTOR IN INHERITENCE\n",
        "\n",
        " METHOD RESOLUTION ORDER (MRO)"
      ]
    },
    {
      "cell_type": "code",
      "metadata": {
        "id": "fVgg5Q7g58mH"
      },
      "source": [
        "class D:\n",
        "  def __init__(self):           #constructor\n",
        "    print(\"in D init\")\n",
        "\n",
        "  def feature6(self):\n",
        "    print(\"working\")\n",
        "\n",
        "class F(D):\n",
        "  def __init__(self):\n",
        "    print(\"in F init\")  \n",
        "\n",
        "  def feature8(self):\n",
        "    print(\"working\")"
      ],
      "execution_count": null,
      "outputs": []
    },
    {
      "cell_type": "code",
      "metadata": {
        "colab": {
          "base_uri": "https://localhost:8080/"
        },
        "id": "TzunO7nH8ZyG",
        "outputId": "1cd5d722-5232-4680-bfa3-97e1a8257c09"
      },
      "source": [
        "d1 = D()            "
      ],
      "execution_count": null,
      "outputs": [
        {
          "output_type": "stream",
          "text": [
            "in D init\n"
          ],
          "name": "stdout"
        }
      ]
    },
    {
      "cell_type": "code",
      "metadata": {
        "colab": {
          "base_uri": "https://localhost:8080/"
        },
        "id": "EDCga2Ub8heZ",
        "outputId": "92a02330-bc54-45f6-d7be-89ea2a23cf6e"
      },
      "source": [
        "f1 = F()         # for sub class if there is a constuctor in itself \n",
        "                  #it executes that and if not it goes to super class"
      ],
      "execution_count": null,
      "outputs": [
        {
          "output_type": "stream",
          "text": [
            "in F init\n"
          ],
          "name": "stdout"
        }
      ]
    },
    {
      "cell_type": "code",
      "metadata": {
        "id": "XQmWTWYq9CQo"
      },
      "source": [
        "# to call constuctor of both classes use super \n",
        "class D:\n",
        "  def __init__(self):           #constructor\n",
        "    print(\"in D init\")\n",
        "\n",
        "  def feature6(self):\n",
        "    print(\"working\")\n",
        "\n",
        "class F(D):\n",
        "  def __init__(self):\n",
        "    super().__init__()\n",
        "    print(\"in F init\")  \n",
        "\n",
        "  def feature8(self):\n",
        "    print(\"working\")"
      ],
      "execution_count": null,
      "outputs": []
    },
    {
      "cell_type": "code",
      "metadata": {
        "colab": {
          "base_uri": "https://localhost:8080/"
        },
        "id": "stvzztw49XMV",
        "outputId": "4c497213-28a2-4724-981e-db7539d58427"
      },
      "source": [
        "f2 = F()      # call constructor of both class with super method"
      ],
      "execution_count": null,
      "outputs": [
        {
          "output_type": "stream",
          "text": [
            "in D init\n",
            "in F init\n"
          ],
          "name": "stdout"
        }
      ]
    },
    {
      "cell_type": "code",
      "metadata": {
        "id": "5-6jM1wY9mGB"
      },
      "source": [
        "class D:\n",
        "  def __init__(self):           #constructor\n",
        "    print(\"in D init\")\n",
        "\n",
        "  def feature6(self):\n",
        "    print(\"working\")\n",
        "\n",
        "class F:\n",
        "  def __init__(self):\n",
        "    print(\"in F init\")  \n",
        "\n",
        "  def feature8(self):\n",
        "    print(\"working\")\n",
        "\n",
        "class G(D,F):\n",
        "  def __init__(self):\n",
        "    super().__init__()\n",
        "    print(\"in G init\")  \n",
        "\n",
        "  def feature8(self):\n",
        "    print(\"working\")\n"
      ],
      "execution_count": null,
      "outputs": []
    },
    {
      "cell_type": "code",
      "metadata": {
        "colab": {
          "base_uri": "https://localhost:8080/"
        },
        "id": "R7E8Nsql-Dos",
        "outputId": "13df6b95-ab66-4a0e-9ade-d7e83699a187"
      },
      "source": [
        "g1 = G()        #it goes to only D not F (left to right)  #MRO"
      ],
      "execution_count": null,
      "outputs": [
        {
          "output_type": "stream",
          "text": [
            "in D init\n",
            "in G init\n"
          ],
          "name": "stdout"
        }
      ]
    }
  ]
}